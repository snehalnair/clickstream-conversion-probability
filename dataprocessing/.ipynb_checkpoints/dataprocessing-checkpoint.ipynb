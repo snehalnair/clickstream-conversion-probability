{
 "cells": [
  {
   "cell_type": "markdown",
   "metadata": {},
   "source": [
    "## Run all the codes in the utils"
   ]
  },
  {
   "cell_type": "code",
   "execution_count": 1,
   "metadata": {},
   "outputs": [],
   "source": [
    "%run parameters.ipynb"
   ]
  },
  {
   "cell_type": "code",
   "execution_count": 2,
   "metadata": {},
   "outputs": [],
   "source": [
    "%run utils.ipynb"
   ]
  },
  {
   "cell_type": "markdown",
   "metadata": {},
   "source": [
    "## Load the data"
   ]
  },
  {
   "cell_type": "code",
   "execution_count": 3,
   "metadata": {},
   "outputs": [],
   "source": [
    "df = spark.read.format(\"csv\").option(\"header\", \"true\").option(\"quote\", \"\\\"\").option(\"escape\", \"\\\"\")\\\n",
    ".load(\"sampledata.csv\")"
   ]
  },
  {
   "cell_type": "code",
   "execution_count": 4,
   "metadata": {},
   "outputs": [],
   "source": [
    "def parse_array(s):\n",
    "    return ast.literal_eval(s)\n",
    "parse_array_udf = fn.udf(parse_array, ArrayType(StringType()))\n",
    "\n",
    "for col_ in ['pagePathLevel1', 'pagePathLevel2', 'pagePathLevel3', 'contentGroup4']:\n",
    "    df = df.withColumn(col_, parse_array_udf(fn.col(col_)))"
   ]
  },
  {
   "cell_type": "markdown",
   "metadata": {},
   "source": [
    "## Run pipeline"
   ]
  },
  {
   "cell_type": "code",
   "execution_count": 5,
   "metadata": {},
   "outputs": [],
   "source": [
    "df_lstm = Pipeline(stages=stages).fit(df).transform(df)"
   ]
  },
  {
   "cell_type": "code",
   "execution_count": 20,
   "metadata": {},
   "outputs": [],
   "source": [
    "input_dim_embed = df_lstm.limit(10).collect()[6][\"index_features\"].shape[0]\n",
    "output_dim_embed = 32\n",
    "# input_dim_embed = df_lstm.limit(10).collect()[6][\"index_features\"].shape[0]"
   ]
  },
  {
   "cell_type": "code",
   "execution_count": 21,
   "metadata": {},
   "outputs": [
    {
     "data": {
      "text/plain": [
       "(40,)"
      ]
     },
     "execution_count": 21,
     "metadata": {},
     "output_type": "execute_result"
    }
   ],
   "source": [
    "df_lstm.limit(2).collect()[1][\"pagePath_vector\"].shape"
   ]
  },
  {
   "cell_type": "markdown",
   "metadata": {},
   "source": [
    "## Build Neural Network Layout"
   ]
  },
  {
   "cell_type": "code",
   "execution_count": null,
   "metadata": {},
   "outputs": [],
   "source": []
  },
  {
   "cell_type": "code",
   "execution_count": 6,
   "metadata": {},
   "outputs": [],
   "source": [
    "def get_lstm_model():\n",
    "    model = Sequential()\n",
    "\n",
    "    # Add Embedding layer\n",
    "    model.add(Embedding(input_dim=input_dim_embed, output_dim=output_dim, input_length=input_length))\n",
    "\n",
    "    # Add Convolutional Layer\n",
    "    model.add(Conv1D(filters=64, kernel_size=3, activation='relu', input_shape=(n_timesteps,n_features)))\n",
    "\n",
    "    # Compile model\n",
    "    model.compile(loss='categorical_crossentropy', optimizer='adam', metrics=['accuracy'])\n",
    "    model.summary()\n",
    "    \n",
    "    return model"
   ]
  },
  {
   "cell_type": "code",
   "execution_count": null,
   "metadata": {},
   "outputs": [],
   "source": []
  },
  {
   "cell_type": "code",
   "execution_count": null,
   "metadata": {},
   "outputs": [],
   "source": []
  },
  {
   "cell_type": "code",
   "execution_count": null,
   "metadata": {},
   "outputs": [],
   "source": []
  },
  {
   "cell_type": "code",
   "execution_count": null,
   "metadata": {},
   "outputs": [],
   "source": []
  },
  {
   "cell_type": "code",
   "execution_count": null,
   "metadata": {},
   "outputs": [],
   "source": [
    "# Create an estimator for spark. - uses elphas\n",
    "estimator = ElphasEstimator()\n",
    "estimator.set_keras_model_config(model.to_yaml())\n",
    "estimator.set_ephochs(...)"
   ]
  },
  {
   "cell_type": "code",
   "execution_count": null,
   "metadata": {},
   "outputs": [],
   "source": [
    "estimator.fit(dataframe)\n",
    "or\n",
    "pipe = Pipeline(stages =[estimator])\n",
    "pipe.fit(dataframe)"
   ]
  },
  {
   "cell_type": "code",
   "execution_count": null,
   "metadata": {},
   "outputs": [],
   "source": [
    "# from pyspark.mllib.linalg import VectorUDT, Vectors\n",
    "\n",
    "# def merge_array_vector(arr):\n",
    "#     if len(arr) == 0:\n",
    "#         return arr\n",
    "#     else:\n",
    "#         f = arr[0].toArray()\n",
    "#         for a in arr[1:]:\n",
    "#             f = f + a.toArray()\n",
    "#         return Vectors.dense(f)\n",
    "# merge_array_vector_udf = udf(merge_array_vector, VectorUDT())\n",
    "\n",
    "\n",
    "\n",
    "# df_lstm2 = df_lstm.withColumn(\"pagePath_vector_arr\", concat(col(\"pagePathLevel1_vector\"),\n",
    "#                                       col(\"pagePathLevel2_vector\"),\n",
    "#                                       col(\"pagePathLevel3_vector\"),\n",
    "#                                      )\n",
    "#                   )\n",
    "\n",
    "\n",
    "# df_lstm3 = df_lstm2.withColumn(\"pagePath_vector\",\n",
    "#                                merge_array_vector_udf(col(\"pagePath_vector_arr\")))\n",
    "#   \n",
    "\n",
    "\n",
    "\n",
    "# array_to_vec = udf(Vectors.dense, VectorUDT())\n",
    "\n",
    "# df_lstm4 = df_lstm.withColumn(\n",
    "#     \"index_features\",\n",
    "#     array_to_vec(\n",
    "#         fn.concat(\n",
    "#             fn.col(\"source_index\"),\n",
    "#             fn.col(\"medium_index\"),\n",
    "#             fn.col(\"channelGrouping_index\"),\n",
    "#             fn.col(\"deviceCategory_index\")\n",
    "#         )\n",
    "#     )\n",
    "# )\n",
    "\n",
    "\n",
    "# df_lstm4.limit(20).collect()[5][\"index_features\"].shape"
   ]
  },
  {
   "cell_type": "code",
   "execution_count": 3,
   "metadata": {},
   "outputs": [
    {
     "name": "stdout",
     "output_type": "stream",
     "text": [
      "0\n",
      "1\n",
      "2\n",
      "3\n",
      "4\n",
      "5\n",
      "6\n",
      "7\n",
      "8\n",
      "9\n"
     ]
    }
   ],
   "source": [
    "i=0\n",
    "while i <5:\n",
    "    for i in range(10):\n",
    "        print(i)"
   ]
  },
  {
   "cell_type": "code",
   "execution_count": null,
   "metadata": {},
   "outputs": [],
   "source": []
  }
 ],
 "metadata": {
  "kernelspec": {
   "display_name": "Python 3.7.3 64-bit ('imageenv': venv)",
   "language": "python",
   "name": "python37364bitimageenvvenv1bd32f4f13d047a990e9b995ab17fcf9"
  },
  "language_info": {
   "codemirror_mode": {
    "name": "ipython",
    "version": 3
   },
   "file_extension": ".py",
   "mimetype": "text/x-python",
   "name": "python",
   "nbconvert_exporter": "python",
   "pygments_lexer": "ipython3",
   "version": "3.7.3"
  }
 },
 "nbformat": 4,
 "nbformat_minor": 4
}
